{
 "cells": [
  {
   "cell_type": "code",
   "execution_count": null,
   "metadata": {},
   "outputs": [
    {
     "name": "stdout",
     "output_type": "stream",
     "text": [
      " * Serving Flask app \"__main__\" (lazy loading)\n",
      " * Environment: production\n",
      "   WARNING: This is a development server. Do not use it in a production deployment.\n",
      "   Use a production WSGI server instead.\n",
      " * Debug mode: on\n"
     ]
    },
    {
     "name": "stderr",
     "output_type": "stream",
     "text": [
      " * Running on http://127.0.0.1:5010/ (Press CTRL+C to quit)\n",
      "127.0.0.1 - - [22/Oct/2020 13:30:43] \"GET / HTTP/1.1\" 200 -\n",
      "127.0.0.1 - - [22/Oct/2020 13:30:43] \"GET /static/css/main.css HTTP/1.1\" 200 -\n",
      "127.0.0.1 - - [22/Oct/2020 13:30:46] \"POST /recommendation HTTP/1.1\" 200 -\n"
     ]
    }
   ],
   "source": [
    "# https://github.com/plotly/dash/issues/34\n",
    "\n",
    "from flask import Flask, render_template\n",
    "from flask import request\n",
    "import nbimporter\n",
    "import datacleaning as dc\n",
    "\n",
    "app = Flask(__name__)\n",
    "\n",
    "\n",
    "@app.route('/', methods=['GET'])\n",
    "def index():\n",
    "    return render_template(\"index.html\")\n",
    "#     return \"<h1>Hello Word!</h1>\"    \n",
    "\n",
    "@app.route('/recommendation', methods = ['POST', 'GET'])\n",
    "def data():\n",
    "    if request.method == 'GET':\n",
    "        return f\"ERROR: The URL /recommendation is accessed directly. Try going to '/' to submit form\"\n",
    "    if request.method == 'POST':\n",
    "        user_id = request.form['user_id']\n",
    "        recom = user_id + \" boogh\" # predict\n",
    "        \n",
    "        \n",
    "        \n",
    "        \n",
    "        return render_template(\"recommendation.html\", value=recom)#flask pass value to html\n",
    "#         return \"<h1>Hello Data!</h1>\"\n",
    "#         form_data = request.form\n",
    "#         return render_template('data.html',form_data = form_data)\n",
    " \n",
    "\n",
    "#############################################################\n",
    "def shutdown_server():\n",
    "    func = request.environ.get('werkzeug.server.shutdown')\n",
    "    if func is None:\n",
    "        raise RuntimeError('Not running with the Werkzeug Server')\n",
    "    func()\n",
    "\n",
    "@app.route('/shutdown', methods=['GET'])\n",
    "def shutdown():\n",
    "    shutdown_server()\n",
    "    return 'Server shutting down...'\n",
    "#############################################################\n",
    "\n",
    "if __name__ == \"__main__\":\n",
    "    app.run(debug=True, use_reloader=False,port=5010)\n"
   ]
  },
  {
   "cell_type": "code",
   "execution_count": null,
   "metadata": {},
   "outputs": [],
   "source": [
    "import sys\n",
    "\n",
    "def get_base_prefix_compat():\n",
    "    \"\"\"Get base/real prefix, or sys.prefix if there is none.\"\"\"\n",
    "    return getattr(sys, \"base_prefix\", None) or getattr(sys, \"real_prefix\", None) or sys.prefix\n",
    "\n",
    "def in_virtualenv():\n",
    "    return get_base_prefix_compat() != sys.prefix"
   ]
  },
  {
   "cell_type": "code",
   "execution_count": null,
   "metadata": {},
   "outputs": [],
   "source": [
    "get_base_prefix_compat()"
   ]
  },
  {
   "cell_type": "code",
   "execution_count": null,
   "metadata": {},
   "outputs": [],
   "source": [
    "in_virtualenv()"
   ]
  },
  {
   "cell_type": "code",
   "execution_count": null,
   "metadata": {},
   "outputs": [],
   "source": []
  }
 ],
 "metadata": {
  "kernelspec": {
   "display_name": "Python [conda env:root]",
   "language": "python",
   "name": "conda-root-py"
  },
  "language_info": {
   "codemirror_mode": {
    "name": "ipython",
    "version": 3
   },
   "file_extension": ".py",
   "mimetype": "text/x-python",
   "name": "python",
   "nbconvert_exporter": "python",
   "pygments_lexer": "ipython3",
   "version": "3.7.4"
  }
 },
 "nbformat": 4,
 "nbformat_minor": 4
}
